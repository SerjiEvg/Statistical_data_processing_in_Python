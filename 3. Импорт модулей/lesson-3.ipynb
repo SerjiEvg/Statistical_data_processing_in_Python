{
 "cells": [
  {
   "cell_type": "markdown",
   "source": [
    "# Importing Modules\n",
    "\n",
    "This lesson covers:\n",
    "\n",
    "* Module import"
   ],
   "metadata": {
    "collapsed": true,
    "pycharm": {
     "name": "#%% md\n"
    }
   }
  },
  {
   "cell_type": "markdown",
   "source": [
    "## Problem: Importing Modules\n",
    "\n",
    "Python is a general-purpose programming language and is not specialized for\n",
    "numerical or statistical computation. The core modules that enable Python to\n",
    "store and access data efficiently and that provide statistical algorithms are\n",
    "located in modules.  The most important are:\n",
    "\n",
    "* NumPy (`numpy`) - provide the basic array block used throughout numerical\n",
    "  Python\n",
    "* pandas (`pandas`) - provides DataFrames which are used to store \n",
    "  data in an easy-to-use format\n",
    "* SciPy (`scipy`) - Basic statistics and random number generators. The most\n",
    "  important submodule is `scipy.stats`\n",
    "* matplotlib (`matplotlib`) - graphics. The most important submodule is\n",
    "  `matplotlib.pyplot`.\n",
    "* statsmodels (`statsmodels`) - statistical models such as OLS. The most\n",
    "  important submodules are `statsmodels.api` and `statsmodels.tsa.api`.\n",
    "\n",
    "Begin by importing the important modules."
   ],
   "metadata": {
    "collapsed": false
   }
  },
  {
   "cell_type": "code",
   "execution_count": null,
   "source": [],
   "outputs": [],
   "metadata": {
    "execution": {
     "iopub.execute_input": "2020-12-15T17:48:50.847048Z",
     "iopub.status.busy": "2020-12-15T17:48:50.847048Z",
     "iopub.status.idle": "2020-12-15T17:48:52.176078Z",
     "shell.execute_reply": "2020-12-15T17:48:52.177079Z"
    }
   }
  },
  {
   "cell_type": "markdown",
   "source": [
    "## Problem: Canonical Names\n",
    "\n",
    "Use the `as` keyword to import the modules using their canonical names:\n",
    "\n",
    "| Module              | Canonical Name |\n",
    "| :------------------ | :------------- |\n",
    "| numpy               | np             |\n",
    "| pandas              | pd             |\n",
    "| scipy               | sp             |\n",
    "| scipy.stats         | stats          |\n",
    "| matplotlib.pyplot   | plt            |\n",
    "| statsmodels.api     | sm             |\n",
    "| statsmodels.tsa.api | tsa            |\n",
    "\n",
    "Import the core modules using `import` _module_ `as` _canonical_."
   ],
   "metadata": {
    "collapsed": false
   }
  },
  {
   "cell_type": "code",
   "execution_count": null,
   "source": [],
   "outputs": [],
   "metadata": {
    "execution": {
     "iopub.execute_input": "2020-12-15T17:48:52.180079Z",
     "iopub.status.busy": "2020-12-15T17:48:52.180079Z",
     "iopub.status.idle": "2020-12-15T17:48:52.192078Z",
     "shell.execute_reply": "2020-12-15T17:48:52.192078Z"
    }
   }
  },
  {
   "cell_type": "markdown",
   "source": [
    "## Problem: Importing individual functions\n",
    "\n",
    "1. Import `array`, `sqrt`, `log` and `exp` from NumPy.\n",
    "2. Import `OLS` from `statsmodels.regression.linear_model`\n",
    "3. Import the `stats` module from `scipy`"
   ],
   "metadata": {
    "collapsed": false
   }
  },
  {
   "cell_type": "code",
   "execution_count": null,
   "source": [],
   "outputs": [],
   "metadata": {
    "execution": {
     "iopub.execute_input": "2020-12-15T17:48:52.195079Z",
     "iopub.status.busy": "2020-12-15T17:48:52.194078Z",
     "iopub.status.idle": "2020-12-15T17:48:52.208078Z",
     "shell.execute_reply": "2020-12-15T17:48:52.208078Z"
    }
   }
  },
  {
   "cell_type": "markdown",
   "source": [
    "## Exercises\n",
    "\n",
    "### Exercise: Import `det`\n",
    "\n",
    "The determinant function is located at `numpy.linalg.det`. Access this function\n",
    "using:\n",
    "\n",
    "1. `numpy`\n",
    "2. `np`\n",
    "3. By importing `linalg` from `numpy` and accessing it from `linalg`\n",
    "4. By directly importing the function\n",
    "\n",
    "You can `x` in the setup code to call the function as _func_`(x)`."
   ],
   "metadata": {
    "collapsed": false,
    "pycharm": {
     "name": "#%% md\n"
    }
   }
  },
  {
   "cell_type": "code",
   "execution_count": 1,
   "source": [
    "# Setup: A simple 2 by 2 array to use with det\r\n",
    "import numpy as np\r\n",
    "x = np.array([[2,3],[1,2]])\r\n",
    "print(x)"
   ],
   "outputs": [
    {
     "output_type": "stream",
     "name": "stdout",
     "text": [
      "[[2 3]\n",
      " [1 2]]\n"
     ]
    }
   ],
   "metadata": {
    "execution": {
     "iopub.execute_input": "2020-12-15T17:48:52.211080Z",
     "iopub.status.busy": "2020-12-15T17:48:52.210078Z",
     "iopub.status.idle": "2020-12-15T17:48:52.224081Z",
     "shell.execute_reply": "2020-12-15T17:48:52.224081Z"
    },
    "pycharm": {
     "is_executing": false,
     "name": "#%%\n"
    }
   }
  },
  {
   "cell_type": "code",
   "execution_count": null,
   "source": [],
   "outputs": [],
   "metadata": {
    "execution": {
     "iopub.execute_input": "2020-12-15T17:48:52.227078Z",
     "iopub.status.busy": "2020-12-15T17:48:52.227078Z",
     "iopub.status.idle": "2020-12-15T17:48:52.240079Z",
     "shell.execute_reply": "2020-12-15T17:48:52.240079Z"
    }
   }
  },
  {
   "cell_type": "code",
   "execution_count": null,
   "source": [],
   "outputs": [],
   "metadata": {
    "execution": {
     "iopub.execute_input": "2020-12-15T17:48:52.244080Z",
     "iopub.status.busy": "2020-12-15T17:48:52.243082Z",
     "iopub.status.idle": "2020-12-15T17:48:52.256081Z",
     "shell.execute_reply": "2020-12-15T17:48:52.256081Z"
    }
   }
  },
  {
   "cell_type": "code",
   "execution_count": null,
   "source": [],
   "outputs": [],
   "metadata": {
    "execution": {
     "iopub.execute_input": "2020-12-15T17:48:52.259081Z",
     "iopub.status.busy": "2020-12-15T17:48:52.259081Z",
     "iopub.status.idle": "2020-12-15T17:48:52.272079Z",
     "shell.execute_reply": "2020-12-15T17:48:52.272079Z"
    }
   }
  },
  {
   "cell_type": "code",
   "execution_count": null,
   "source": [],
   "outputs": [],
   "metadata": {
    "execution": {
     "iopub.execute_input": "2020-12-15T17:48:52.275078Z",
     "iopub.status.busy": "2020-12-15T17:48:52.275078Z",
     "iopub.status.idle": "2020-12-15T17:48:52.288078Z",
     "shell.execute_reply": "2020-12-15T17:48:52.288078Z"
    }
   }
  }
 ],
 "metadata": {
  "kernelspec": {
   "name": "python3",
   "display_name": "Python 3.8.5 64-bit ('base': conda)"
  },
  "language_info": {
   "codemirror_mode": {
    "name": "ipython",
    "version": 3
   },
   "file_extension": ".py",
   "mimetype": "text/x-python",
   "name": "python",
   "nbconvert_exporter": "python",
   "pygments_lexer": "ipython3",
   "version": "3.8.5"
  },
  "pycharm": {
   "stem_cell": {
    "cell_type": "raw",
    "metadata": {
     "collapsed": false
    },
    "source": []
   }
  },
  "interpreter": {
   "hash": "697c8ac5c08209fc5ea22b180661dc73f004efdef58c831857587b142cda4905"
  }
 },
 "nbformat": 4,
 "nbformat_minor": 2
}