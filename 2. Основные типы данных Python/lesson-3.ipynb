{
 "cells": [
  {
   "cell_type": "markdown",
   "source": [
    "# Типы данных и преобразование типов\r\n",
    "\r\n",
    "## У каждого значения в Python есть свой тип данных\r\n",
    "\r\n",
    "* Каждое значение в программе имеет определенный тип.\r\n",
    "* Integer ( int): целые числа, например 3 или -512.\r\n",
    "* Число с плавающей запятой ( float): дробные числа, например 3,14159 или -2,5.\r\n",
    "* Целые числа также могут быть сохранены как числа с плавающей запятой, например 1.0, но 1.0 все равно будут сохранены как float.\r\n",
    "* Строка символов (обычно называется «строка», str): текст.\r\n",
    "    * Записывается в одинарных или двойных кавычках (если они совпадают).\r\n",
    "    * Кавычки не печатаются с использованием print(), но могут появляться при просмотре значения в Jupyter Notebook или другом интерпретаторе Python."
   ],
   "metadata": {}
  },
  {
   "cell_type": "markdown",
   "source": [
    "## Используйте встроенную функцию type, чтобы определить тип значения\r\n",
    "* Используйте встроенную функцию, typeчтобы узнать, какой тип имеет значение.\r\n",
    "* Это также работает с переменными.\r\n",
    "    * Но помните: значение имеет тип - `переменная` - это просто метка.\r\n",
    "    * Когда вы изменяете значение переменной на новый тип данных, результаты print(type(your_variable)) изменятся соответствующим образом."
   ],
   "metadata": {}
  },
  {
   "cell_type": "code",
   "execution_count": 1,
   "source": [
    "print(type(52))"
   ],
   "outputs": [
    {
     "output_type": "stream",
     "name": "stdout",
     "text": [
      "<class 'int'>\n"
     ]
    }
   ],
   "metadata": {}
  },
  {
   "cell_type": "code",
   "execution_count": 2,
   "source": [
    "title = 'Biochemistry'\r\n",
    "print(type(title))"
   ],
   "outputs": [
    {
     "output_type": "stream",
     "name": "stdout",
     "text": [
      "<class 'str'>\n"
     ]
    }
   ],
   "metadata": {}
  },
  {
   "cell_type": "markdown",
   "source": [
    "## Типы определяют, какие операции (или методы) могут быть выполнены с заданным значением\r\n",
    "* Тип значения определяет, что программа может с ним делать."
   ],
   "metadata": {}
  },
  {
   "cell_type": "code",
   "execution_count": 3,
   "source": [
    "print(5 - 3)"
   ],
   "outputs": [
    {
     "output_type": "stream",
     "name": "stdout",
     "text": [
      "2\n"
     ]
    }
   ],
   "metadata": {}
  },
  {
   "cell_type": "code",
   "execution_count": 4,
   "source": [
    "print('hello' - 'h')"
   ],
   "outputs": [
    {
     "output_type": "error",
     "ename": "TypeError",
     "evalue": "unsupported operand type(s) for -: 'str' and 'str'",
     "traceback": [
      "\u001b[1;31m---------------------------------------------------------------------------\u001b[0m",
      "\u001b[1;31mTypeError\u001b[0m                                 Traceback (most recent call last)",
      "\u001b[1;32m<ipython-input-4-35e8597b28d6>\u001b[0m in \u001b[0;36m<module>\u001b[1;34m\u001b[0m\n\u001b[1;32m----> 1\u001b[1;33m \u001b[0mprint\u001b[0m\u001b[1;33m(\u001b[0m\u001b[1;34m'hello'\u001b[0m \u001b[1;33m-\u001b[0m \u001b[1;34m'h'\u001b[0m\u001b[1;33m)\u001b[0m\u001b[1;33m\u001b[0m\u001b[1;33m\u001b[0m\u001b[0m\n\u001b[0m",
      "\u001b[1;31mTypeError\u001b[0m: unsupported operand type(s) for -: 'str' and 'str'"
     ]
    }
   ],
   "metadata": {}
  },
  {
   "cell_type": "markdown",
   "source": [
    "## Вы можете использовать операторы + и * для работы со строковыми значениями\r\n",
    "* «Добавление» строк и их объединение (конкатенация)."
   ],
   "metadata": {}
  },
  {
   "cell_type": "code",
   "execution_count": 5,
   "source": [
    "full_name = 'Ahmed' + ' ' + 'Walsh'\r\n",
    "print(full_name)"
   ],
   "outputs": [
    {
     "output_type": "stream",
     "name": "stdout",
     "text": [
      "Ahmed Walsh\n"
     ]
    }
   ],
   "metadata": {}
  },
  {
   "cell_type": "markdown",
   "source": [
    "* Умножение символьной строки на целое число N создает новую строку, состоящую из этой символьной строки, повторенной N раз.\r\n",
    "    * Так как при умножении многократно повторяется операция сложения.\r\n",
    "* Есть и другие способы работы традиционных математических операторов с другими типами данных. Не существует идеальной формулы для выяснения того, что они делают, поэтому практические знания имеют большую ценность."
   ],
   "metadata": {}
  },
  {
   "cell_type": "code",
   "execution_count": 6,
   "source": [
    "separator = '=' * 10\r\n",
    "print(separator)"
   ],
   "outputs": [
    {
     "output_type": "stream",
     "name": "stdout",
     "text": [
      "==========\n"
     ]
    }
   ],
   "metadata": {}
  },
  {
   "cell_type": "markdown",
   "source": [
    "## Строки имеют длину (а числа - нет)\r\n",
    "* Встроенная функция `len` подсчитывает количество символов в строке."
   ],
   "metadata": {}
  },
  {
   "cell_type": "code",
   "execution_count": 7,
   "source": [
    "print(len(full_name))"
   ],
   "outputs": [
    {
     "output_type": "stream",
     "name": "stdout",
     "text": [
      "11\n"
     ]
    }
   ],
   "metadata": {}
  },
  {
   "cell_type": "markdown",
   "source": [
    "* Но у чисел нет длины (даже нуля)."
   ],
   "metadata": {}
  },
  {
   "cell_type": "code",
   "execution_count": 8,
   "source": [
    "print(len(52))"
   ],
   "outputs": [
    {
     "output_type": "error",
     "ename": "TypeError",
     "evalue": "object of type 'int' has no len()",
     "traceback": [
      "\u001b[1;31m---------------------------------------------------------------------------\u001b[0m",
      "\u001b[1;31mTypeError\u001b[0m                                 Traceback (most recent call last)",
      "\u001b[1;32m<ipython-input-8-8e77a6522867>\u001b[0m in \u001b[0;36m<module>\u001b[1;34m\u001b[0m\n\u001b[1;32m----> 1\u001b[1;33m \u001b[0mprint\u001b[0m\u001b[1;33m(\u001b[0m\u001b[0mlen\u001b[0m\u001b[1;33m(\u001b[0m\u001b[1;36m52\u001b[0m\u001b[1;33m)\u001b[0m\u001b[1;33m)\u001b[0m\u001b[1;33m\u001b[0m\u001b[1;33m\u001b[0m\u001b[0m\n\u001b[0m",
      "\u001b[1;31mTypeError\u001b[0m: object of type 'int' has no len()"
     ]
    }
   ],
   "metadata": {}
  },
  {
   "cell_type": "markdown",
   "source": [
    "## При работе с числами необходимо преобразовывать их в строки или наоборот\r\n",
    "* Невозможно складывать числа и строки."
   ],
   "metadata": {}
  },
  {
   "cell_type": "code",
   "execution_count": 9,
   "source": [
    "print(1 + 'A')"
   ],
   "outputs": [
    {
     "output_type": "error",
     "ename": "TypeError",
     "evalue": "unsupported operand type(s) for +: 'int' and 'str'",
     "traceback": [
      "\u001b[1;31m---------------------------------------------------------------------------\u001b[0m",
      "\u001b[1;31mTypeError\u001b[0m                                 Traceback (most recent call last)",
      "\u001b[1;32m<ipython-input-9-7985b0011a73>\u001b[0m in \u001b[0;36m<module>\u001b[1;34m\u001b[0m\n\u001b[1;32m----> 1\u001b[1;33m \u001b[0mprint\u001b[0m\u001b[1;33m(\u001b[0m\u001b[1;36m1\u001b[0m \u001b[1;33m+\u001b[0m \u001b[1;34m'A'\u001b[0m\u001b[1;33m)\u001b[0m\u001b[1;33m\u001b[0m\u001b[1;33m\u001b[0m\u001b[0m\n\u001b[0m",
      "\u001b[1;31mTypeError\u001b[0m: unsupported operand type(s) for +: 'int' and 'str'"
     ]
    }
   ],
   "metadata": {}
  },
  {
   "cell_type": "markdown",
   "source": [
    "* Не допускается, потому что это неоднозначно: должно 1 + '2' быть 3 или '12'?\r\n",
    "* Некоторые типы можно преобразовать в другие типы, используя имя типа как функцию."
   ],
   "metadata": {}
  },
  {
   "cell_type": "code",
   "execution_count": 10,
   "source": [
    "print(1 + int('2'))\r\n",
    "print(str(1) + '2')"
   ],
   "outputs": [
    {
     "output_type": "stream",
     "name": "stdout",
     "text": [
      "3\n",
      "12\n"
     ]
    }
   ],
   "metadata": {}
  },
  {
   "cell_type": "markdown",
   "source": [
    "## Можно свободно смешивать целые числа и числа с плавающей запятой в операциях\r\n",
    "* В арифметике можно смешивать целые числа и числа с плавающей запятой.\r\n",
    "    * Python автоматически преобразует целые числа в числа с плавающей запятой по мере необходимости."
   ],
   "metadata": {}
  },
  {
   "cell_type": "code",
   "execution_count": 11,
   "source": [
    "print('half is', 1 / 2.0)\r\n",
    "print('three squared is', 3.0 ** 2)"
   ],
   "outputs": [
    {
     "output_type": "stream",
     "name": "stdout",
     "text": [
      "half is 0.5\n",
      "three squared is 9.0\n"
     ]
    }
   ],
   "metadata": {}
  },
  {
   "cell_type": "markdown",
   "source": [
    "## Переменные изменяют значение только тогда, когда им что-то присваивается\r\n",
    "* Если мы сделаем одну ячейку в электронной таблице зависимой от другой и обновим последнюю, первая обновится автоматически.\r\n",
    "* В языках программирования этого не происходит."
   ],
   "metadata": {}
  },
  {
   "cell_type": "code",
   "execution_count": 12,
   "source": [
    "first = 1\r\n",
    "second = 5 * first\r\n",
    "first = 2\r\n",
    "print('first is', first, 'and second is', second)"
   ],
   "outputs": [
    {
     "output_type": "stream",
     "name": "stdout",
     "text": [
      "first is 2 and second is 5\n"
     ]
    }
   ],
   "metadata": {}
  },
  {
   "cell_type": "markdown",
   "source": [
    "* Компьютер считывает значение first при умножении, создает новое значение и присваивает его second.\r\n",
    "* После этого second не помнит, откуда это взялось."
   ],
   "metadata": {}
  },
  {
   "cell_type": "markdown",
   "source": [
    "# Задания к этому уроку"
   ],
   "metadata": {}
  },
  {
   "cell_type": "markdown",
   "source": [
    "## Задание 1\r\n",
    "Какой тип имеет значение 3.4? Как это определить?"
   ],
   "metadata": {}
  },
  {
   "cell_type": "markdown",
   "source": [
    "## Задание 2\r\n",
    "Какой тип будет иметь значение 3.25 + 4?"
   ],
   "metadata": {}
  },
  {
   "cell_type": "markdown",
   "source": [
    "## Задание 3\r\n",
    "Какой тип значения (целое число, число с плавающей запятой или символьная строка) вы бы использовали для представления каждого из следующих элементов? \r\n",
    "Постарайтесь найти более одного правильного ответа на каждый вопрос. Например, в вопросе №1, когда подсчет дней с помощью переменной с плавающей запятой будет иметь больше смысла, чем использование целого числа?\r\n",
    "\r\n",
    "1. Количество дней с начала года.\r\n",
    "2. Время прошедшее с начала года.\r\n",
    "3. Номер телефона из адресной книги.\r\n",
    "4. Стандартный период ссуды денежных средств.\r\n",
    "5. Количество информационных запросов в год к базе данных.\r\n",
    "6. Среднее количество занятий в аудитории за семестр."
   ],
   "metadata": {}
  },
  {
   "cell_type": "markdown",
   "source": [
    "## Задание 4\r\n",
    "Есть три разных типа деления:\r\n",
    "\r\n",
    "1. «Нормальное» деление (также известное как деление с плавающей запятой) - это то, что может быть знакомо большинству людей: 5/2 = 2.5.\r\n",
    "2. Целочисленное деление, при котором вырезается только целая часть до точки: 5/2 = 2\r\n",
    "3. Деление по модулю, которое сохраняет только оставшееся после деления: 5/2 = 1\r\n",
    "\r\n",
    "В Python 3 /оператор выполняет деление с плавающей запятой, // оператор выполняет целочисленное деление, а оператор '%' (или по модулю ) вычисляет деление по модулю:"
   ],
   "metadata": {}
  },
  {
   "cell_type": "code",
   "execution_count": 13,
   "source": [
    "print('5 / 3:', 5/3)\r\n",
    "print('5 // 3:', 5//3)\r\n",
    "print('5 % 3:', 5%3)"
   ],
   "outputs": [
    {
     "output_type": "stream",
     "name": "stdout",
     "text": [
      "5 / 3: 1.6666666666666667\n",
      "5 // 3: 1\n",
      "5 % 3: 2\n"
     ]
    }
   ],
   "metadata": {}
  },
  {
   "cell_type": "markdown",
   "source": [
    "Если num_students это количество студентов, обучающихся на курсе (скажем, 600), и num_per_classэто количество, которое может посещать один класс (скажем, 42), напишите выражение, которое вычисляет количество классов, необходимых для обучения всех."
   ],
   "metadata": {}
  },
  {
   "cell_type": "code",
   "execution_count": null,
   "source": [
    "# Код решения этой небольшой задачки"
   ],
   "outputs": [],
   "metadata": {}
  },
  {
   "cell_type": "markdown",
   "source": [
    "## Задание 5\r\n",
    "Где, возможно, float() преобразует строку в число с плавающей запятой и int()преобразует число с плавающей запятой в целое число?"
   ],
   "metadata": {}
  },
  {
   "cell_type": "code",
   "execution_count": 14,
   "source": [
    "print(\"string to float:\", float(\"3.4\"))\r\n",
    "print(\"float to int:\", int(3.4))"
   ],
   "outputs": [
    {
     "output_type": "stream",
     "name": "stdout",
     "text": [
      "string to float: 3.4\n",
      "float to int: 3\n"
     ]
    }
   ],
   "metadata": {}
  },
  {
   "cell_type": "markdown",
   "source": [
    "Примечание: преобразование иногда также называют приведением типов.\r\n",
    "\r\n",
    "Однако, если преобразование не имеет смысла, появится сообщение об ошибке."
   ],
   "metadata": {}
  },
  {
   "cell_type": "code",
   "execution_count": 15,
   "source": [
    "print(\"string to float:\", float(\"Hello world!\"))"
   ],
   "outputs": [
    {
     "output_type": "error",
     "ename": "ValueError",
     "evalue": "could not convert string to float: 'Hello world!'",
     "traceback": [
      "\u001b[1;31m---------------------------------------------------------------------------\u001b[0m",
      "\u001b[1;31mValueError\u001b[0m                                Traceback (most recent call last)",
      "\u001b[1;32m<ipython-input-15-8b7db3f305e2>\u001b[0m in \u001b[0;36m<module>\u001b[1;34m\u001b[0m\n\u001b[1;32m----> 1\u001b[1;33m \u001b[0mprint\u001b[0m\u001b[1;33m(\u001b[0m\u001b[1;34m\"string to float:\"\u001b[0m\u001b[1;33m,\u001b[0m \u001b[0mfloat\u001b[0m\u001b[1;33m(\u001b[0m\u001b[1;34m\"Hello world!\"\u001b[0m\u001b[1;33m)\u001b[0m\u001b[1;33m)\u001b[0m\u001b[1;33m\u001b[0m\u001b[1;33m\u001b[0m\u001b[0m\n\u001b[0m",
      "\u001b[1;31mValueError\u001b[0m: could not convert string to float: 'Hello world!'"
     ]
    }
   ],
   "metadata": {}
  },
  {
   "cell_type": "markdown",
   "source": [
    "Учитывая эту информацию, что вы ожидается от следующей программы?\r\n",
    "\r\n",
    "Что он на самом деле делает?\r\n",
    "\r\n",
    "Как вы думаете, почему это так работает?"
   ],
   "metadata": {}
  },
  {
   "cell_type": "code",
   "execution_count": 16,
   "source": [
    "print(\"fractional string to int:\", int(\"3.4\"))"
   ],
   "outputs": [
    {
     "output_type": "error",
     "ename": "ValueError",
     "evalue": "invalid literal for int() with base 10: '3.4'",
     "traceback": [
      "\u001b[1;31m---------------------------------------------------------------------------\u001b[0m",
      "\u001b[1;31mValueError\u001b[0m                                Traceback (most recent call last)",
      "\u001b[1;32m<ipython-input-16-617dc59d7f19>\u001b[0m in \u001b[0;36m<module>\u001b[1;34m\u001b[0m\n\u001b[1;32m----> 1\u001b[1;33m \u001b[0mprint\u001b[0m\u001b[1;33m(\u001b[0m\u001b[1;34m\"fractional string to int:\"\u001b[0m\u001b[1;33m,\u001b[0m \u001b[0mint\u001b[0m\u001b[1;33m(\u001b[0m\u001b[1;34m\"3.4\"\u001b[0m\u001b[1;33m)\u001b[0m\u001b[1;33m)\u001b[0m\u001b[1;33m\u001b[0m\u001b[1;33m\u001b[0m\u001b[0m\n\u001b[0m",
      "\u001b[1;31mValueError\u001b[0m: invalid literal for int() with base 10: '3.4'"
     ]
    }
   ],
   "metadata": {}
  },
  {
   "cell_type": "markdown",
   "source": [
    "## Задание 6\r\n",
    "Что из следующих инструкций будет выдавать значение 2.0? Примечание: правильных ответов может быть несколько."
   ],
   "metadata": {}
  },
  {
   "cell_type": "code",
   "execution_count": null,
   "source": [
    "first = 1.0\r\n",
    "second = \"1\"\r\n",
    "third = \"1.1\""
   ],
   "outputs": [],
   "metadata": {}
  },
  {
   "cell_type": "markdown",
   "source": [
    "1. first + float(second)\r\n",
    "2. float(second) + float(third)\r\n",
    "3. first + int(third)\r\n",
    "4. first + int(float(third))\r\n",
    "5. int(first) + int(float(third))\r\n",
    "6. 2.0 * second"
   ],
   "metadata": {}
  }
 ],
 "metadata": {
  "orig_nbformat": 4,
  "language_info": {
   "name": "python",
   "version": "3.8.5",
   "mimetype": "text/x-python",
   "codemirror_mode": {
    "name": "ipython",
    "version": 3
   },
   "pygments_lexer": "ipython3",
   "nbconvert_exporter": "python",
   "file_extension": ".py"
  },
  "kernelspec": {
   "name": "python3",
   "display_name": "Python 3.8.5 64-bit ('base': conda)"
  },
  "interpreter": {
   "hash": "697c8ac5c08209fc5ea22b180661dc73f004efdef58c831857587b142cda4905"
  }
 },
 "nbformat": 4,
 "nbformat_minor": 2
}