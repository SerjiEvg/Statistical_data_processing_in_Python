{
 "cells": [
  {
   "cell_type": "markdown",
   "source": [
    "# Basic Python Types\n",
    "\n",
    "This lesson covers:\n",
    "\n",
    "* Inputting scalars and strings\n",
    "* Lists\n",
    "* Tuples\n",
    "* Dictionaries\n"
   ],
   "metadata": {
    "collapsed": false
   }
  },
  {
   "cell_type": "markdown",
   "source": [
    "## Problem: Input scalar floating point and integers\n",
    "\n",
    "1. Create a variable called `scalar_float` containing $\\pi$ to 4 digits.\n",
    "2. Create a variable called `scalar_int` containing 31415. \n",
    "3. Print each value using the `print` function.   "
   ],
   "metadata": {
    "collapsed": false
   }
  },
  {
   "cell_type": "code",
   "execution_count": 2,
   "source": [],
   "outputs": [
    {
     "output_type": "stream",
     "name": "stdout",
     "text": [
      "\\nHello\n"
     ]
    }
   ],
   "metadata": {
    "execution": {
     "iopub.execute_input": "2020-12-15T17:48:49.302470Z",
     "iopub.status.busy": "2020-12-15T17:48:49.302470Z",
     "iopub.status.idle": "2020-12-15T17:48:49.314471Z",
     "shell.execute_reply": "2020-12-15T17:48:49.314471Z"
    }
   }
  },
  {
   "cell_type": "markdown",
   "source": [
    "## Problem: Create a string and an f-string\n",
    "\n",
    "1. Create a variable called `a_string` containing `This is a string`\n",
    "2. Create a f-string the prints `The value of scalar_float is 3.1415` using\n",
    "   the variable created in the previous step\n",
    "3. Create two string, `first` containing `String concatenation` and the\n",
    "   second containing ` is like addition`, and join the two using `+` to produce\n",
    "   `String concatenation is like addition`. "
   ],
   "metadata": {
    "collapsed": false
   }
  },
  {
   "cell_type": "code",
   "execution_count": null,
   "source": [],
   "outputs": [],
   "metadata": {
    "execution": {
     "iopub.execute_input": "2020-12-15T17:48:49.317470Z",
     "iopub.status.busy": "2020-12-15T17:48:49.317470Z",
     "iopub.status.idle": "2020-12-15T17:48:49.330471Z",
     "shell.execute_reply": "2020-12-15T17:48:49.330471Z"
    }
   }
  },
  {
   "cell_type": "markdown",
   "source": [
    "## Problem: Create a list\n",
    "\n",
    "1. Create a list containing `scalar_float` and `scalar_int`\n",
    "2. Add `a_string` to the list.\n",
    "3. Select the second element from the list \n",
    "4. Select the the lst two elements of the list"
   ],
   "metadata": {
    "collapsed": false
   }
  },
  {
   "cell_type": "code",
   "execution_count": null,
   "source": [],
   "outputs": [],
   "metadata": {
    "execution": {
     "iopub.execute_input": "2020-12-15T17:48:49.333471Z",
     "iopub.status.busy": "2020-12-15T17:48:49.333471Z",
     "iopub.status.idle": "2020-12-15T17:48:49.346471Z",
     "shell.execute_reply": "2020-12-15T17:48:49.346471Z"
    }
   }
  },
  {
   "cell_type": "markdown",
   "source": [
    "## Problem: Create a list of lists\n",
    "\n",
    "1. Create a list containing the two lists `[1, 2, 3]` and `[4, 5, 6]`\n",
    "2. Select the element 5 from the nested list"
   ],
   "metadata": {
    "collapsed": false
   }
  },
  {
   "cell_type": "code",
   "execution_count": null,
   "source": [],
   "outputs": [],
   "metadata": {
    "execution": {
     "iopub.execute_input": "2020-12-15T17:48:49.349471Z",
     "iopub.status.busy": "2020-12-15T17:48:49.349471Z",
     "iopub.status.idle": "2020-12-15T17:48:49.362471Z",
     "shell.execute_reply": "2020-12-15T17:48:49.362471Z"
    }
   }
  },
  {
   "cell_type": "markdown",
   "source": [
    "## Problem: Create a tuple\n",
    "\n",
    "1. Create a tuple containing the values (1, 2.0, \"c\")\n",
    "2. Select the element \"c\" from the tuple"
   ],
   "metadata": {
    "collapsed": false,
    "pycharm": {
     "name": "#%% md\n"
    }
   }
  },
  {
   "cell_type": "code",
   "execution_count": null,
   "source": [],
   "outputs": [],
   "metadata": {
    "execution": {
     "iopub.execute_input": "2020-12-15T17:48:49.364470Z",
     "iopub.status.busy": "2020-12-15T17:48:49.364470Z",
     "iopub.status.idle": "2020-12-15T17:48:49.378471Z",
     "shell.execute_reply": "2020-12-15T17:48:49.378471Z"
    }
   }
  },
  {
   "cell_type": "markdown",
   "source": [
    "## Problem: Convert a list to a tuple and back\n",
    "\n",
    "1. Convert the list-of-lists created to a tuple-of-tuples\n",
    "2. Convert the tuple-of-tuples back to a list of lists"
   ],
   "metadata": {
    "collapsed": false
   }
  },
  {
   "cell_type": "code",
   "execution_count": null,
   "source": [],
   "outputs": [],
   "metadata": {
    "execution": {
     "iopub.execute_input": "2020-12-15T17:48:49.381470Z",
     "iopub.status.busy": "2020-12-15T17:48:49.381470Z",
     "iopub.status.idle": "2020-12-15T17:48:49.394470Z",
     "shell.execute_reply": "2020-12-15T17:48:49.394470Z"
    }
   }
  },
  {
   "cell_type": "markdown",
   "source": [
    "## Problem: Create a dictionary\n",
    "\n",
    "1. Create a dictionary containing the key-value pairs `\"float\"` and 3.1415,\n",
    "   `\"int\"` and 31415, and `\"string\"` and `\"three-point-one-four-one-five\"`."
   ],
   "metadata": {
    "collapsed": false
   }
  },
  {
   "cell_type": "code",
   "execution_count": null,
   "source": [],
   "outputs": [],
   "metadata": {
    "execution": {
     "iopub.execute_input": "2020-12-15T17:48:49.397470Z",
     "iopub.status.busy": "2020-12-15T17:48:49.396470Z",
     "iopub.status.idle": "2020-12-15T17:48:49.410472Z",
     "shell.execute_reply": "2020-12-15T17:48:49.410472Z"
    }
   }
  },
  {
   "cell_type": "markdown",
   "source": [
    "## Problem: Lookup and Change a value\n",
    "\n",
    "1. Look up the value of `\"float\"`.\n",
    "2. Change the value of `\"float\"` to `22 / 7`."
   ],
   "metadata": {
    "collapsed": false
   }
  },
  {
   "cell_type": "code",
   "execution_count": null,
   "source": [],
   "outputs": [],
   "metadata": {
    "execution": {
     "iopub.execute_input": "2020-12-15T17:48:49.412470Z",
     "iopub.status.busy": "2020-12-15T17:48:49.412470Z",
     "iopub.status.idle": "2020-12-15T17:48:49.426471Z",
     "shell.execute_reply": "2020-12-15T17:48:49.426471Z"
    }
   }
  },
  {
   "cell_type": "markdown",
   "source": [
    "## Problem: Add and remove a key \n",
    "\n",
    "1. Add the new key \"better_float\" with the value 3.141592.\n",
    "2. Remove the key \"float\" and its value."
   ],
   "metadata": {
    "collapsed": false
   }
  },
  {
   "cell_type": "code",
   "execution_count": null,
   "source": [],
   "outputs": [],
   "metadata": {
    "execution": {
     "iopub.execute_input": "2020-12-15T17:48:49.428470Z",
     "iopub.status.busy": "2020-12-15T17:48:49.428470Z",
     "iopub.status.idle": "2020-12-15T17:48:49.442471Z",
     "shell.execute_reply": "2020-12-15T17:48:49.442471Z"
    }
   }
  },
  {
   "cell_type": "markdown",
   "source": [
    "## Exercises\n",
    "\n",
    "### Exercise: Manipulating lists\n",
    "\n",
    "1. Create an empty list called `lst`\n",
    "2. Add the elements `9`, `\"Eight\"` and `7.0` (in order) to the list.\n",
    "3. Extend the list with the list `[\"Six\", 5, 4.0]` using `extend`\n",
    "4. Select first 4 elements of `lst`\n",
    "5. Select last 3 elements of `lst`\n"
   ],
   "metadata": {
    "collapsed": false,
    "pycharm": {
     "name": "#%% md\n"
    }
   }
  },
  {
   "cell_type": "code",
   "execution_count": null,
   "source": [],
   "outputs": [],
   "metadata": {
    "execution": {
     "iopub.execute_input": "2020-12-15T17:48:49.448471Z",
     "iopub.status.busy": "2020-12-15T17:48:49.448471Z",
     "iopub.status.idle": "2020-12-15T17:48:49.457470Z",
     "shell.execute_reply": "2020-12-15T17:48:49.457470Z"
    }
   }
  },
  {
   "cell_type": "code",
   "execution_count": null,
   "source": [],
   "outputs": [],
   "metadata": {
    "execution": {
     "iopub.execute_input": "2020-12-15T17:48:49.460473Z",
     "iopub.status.busy": "2020-12-15T17:48:49.460473Z",
     "iopub.status.idle": "2020-12-15T17:48:49.473473Z",
     "shell.execute_reply": "2020-12-15T17:48:49.473473Z"
    }
   }
  },
  {
   "cell_type": "code",
   "execution_count": null,
   "source": [],
   "outputs": [],
   "metadata": {
    "execution": {
     "iopub.execute_input": "2020-12-15T17:48:49.476471Z",
     "iopub.status.busy": "2020-12-15T17:48:49.476471Z",
     "iopub.status.idle": "2020-12-15T17:48:49.489470Z",
     "shell.execute_reply": "2020-12-15T17:48:49.489470Z"
    }
   }
  },
  {
   "cell_type": "code",
   "execution_count": null,
   "source": [],
   "outputs": [],
   "metadata": {
    "execution": {
     "iopub.execute_input": "2020-12-15T17:48:49.492471Z",
     "iopub.status.busy": "2020-12-15T17:48:49.491473Z",
     "iopub.status.idle": "2020-12-15T17:48:49.504470Z",
     "shell.execute_reply": "2020-12-15T17:48:49.504470Z"
    }
   }
  },
  {
   "cell_type": "code",
   "execution_count": null,
   "source": [],
   "outputs": [],
   "metadata": {
    "execution": {
     "iopub.execute_input": "2020-12-15T17:48:49.507471Z",
     "iopub.status.busy": "2020-12-15T17:48:49.506470Z",
     "iopub.status.idle": "2020-12-15T17:48:49.520470Z",
     "shell.execute_reply": "2020-12-15T17:48:49.520470Z"
    }
   }
  },
  {
   "cell_type": "code",
   "execution_count": null,
   "source": [],
   "outputs": [],
   "metadata": {
    "execution": {
     "iopub.execute_input": "2020-12-15T17:48:49.523471Z",
     "iopub.status.busy": "2020-12-15T17:48:49.522470Z",
     "iopub.status.idle": "2020-12-15T17:48:49.536471Z",
     "shell.execute_reply": "2020-12-15T17:48:49.536471Z"
    }
   }
  },
  {
   "cell_type": "code",
   "execution_count": null,
   "source": [],
   "outputs": [],
   "metadata": {
    "execution": {
     "iopub.execute_input": "2020-12-15T17:48:49.539471Z",
     "iopub.status.busy": "2020-12-15T17:48:49.538470Z",
     "iopub.status.idle": "2020-12-15T17:48:49.552474Z",
     "shell.execute_reply": "2020-12-15T17:48:49.552474Z"
    }
   }
  },
  {
   "cell_type": "markdown",
   "source": [
    "### Exercise: Dictionary Manipulation\n",
    "\n",
    "1. Create a empty dictionary called `dct`\n",
    "2. Add the pairs \"apple\" and 1, \"banana\" and 2.0, and \"cherry\" and \"iii\"\n",
    "3. Replace the value of \"apple\" with \"I\"\n",
    "4. Remove the entry for \"banana\"\n",
    "5. Add an entry \"date\" with the value 4"
   ],
   "metadata": {
    "collapsed": false,
    "pycharm": {
     "name": "#%% md\n"
    }
   }
  },
  {
   "cell_type": "code",
   "execution_count": null,
   "source": [],
   "outputs": [],
   "metadata": {
    "execution": {
     "iopub.execute_input": "2020-12-15T17:48:49.555471Z",
     "iopub.status.busy": "2020-12-15T17:48:49.554473Z",
     "iopub.status.idle": "2020-12-15T17:48:49.568471Z",
     "shell.execute_reply": "2020-12-15T17:48:49.568471Z"
    }
   }
  },
  {
   "cell_type": "code",
   "execution_count": null,
   "source": [],
   "outputs": [],
   "metadata": {
    "execution": {
     "iopub.execute_input": "2020-12-15T17:48:49.571470Z",
     "iopub.status.busy": "2020-12-15T17:48:49.571470Z",
     "iopub.status.idle": "2020-12-15T17:48:49.584471Z",
     "shell.execute_reply": "2020-12-15T17:48:49.584471Z"
    }
   }
  },
  {
   "cell_type": "code",
   "execution_count": null,
   "source": [],
   "outputs": [],
   "metadata": {
    "execution": {
     "iopub.execute_input": "2020-12-15T17:48:49.587487Z",
     "iopub.status.busy": "2020-12-15T17:48:49.587487Z",
     "iopub.status.idle": "2020-12-15T17:48:49.600485Z",
     "shell.execute_reply": "2020-12-15T17:48:49.600485Z"
    }
   }
  },
  {
   "cell_type": "code",
   "execution_count": null,
   "source": [],
   "outputs": [],
   "metadata": {
    "execution": {
     "iopub.execute_input": "2020-12-15T17:48:49.603485Z",
     "iopub.status.busy": "2020-12-15T17:48:49.603485Z",
     "iopub.status.idle": "2020-12-15T17:48:49.616485Z",
     "shell.execute_reply": "2020-12-15T17:48:49.616485Z"
    }
   }
  },
  {
   "cell_type": "code",
   "execution_count": null,
   "source": [],
   "outputs": [],
   "metadata": {
    "execution": {
     "iopub.execute_input": "2020-12-15T17:48:49.619485Z",
     "iopub.status.busy": "2020-12-15T17:48:49.618485Z",
     "iopub.status.idle": "2020-12-15T17:48:49.632485Z",
     "shell.execute_reply": "2020-12-15T17:48:49.632485Z"
    }
   }
  },
  {
   "cell_type": "markdown",
   "source": [
    "### Exercise: Directly create a Dictionary\n",
    "\n",
    "Using the final version of `dct` from the previous exercise:\n",
    "\n",
    "1. Directly initialize a new dictionary called `other_dct`.\n",
    "2. Use an f-string to print the values associated with each key.\n",
    "\n",
    "**Hint** You must use both types of quotes. For example, to access a value in\n",
    "an f-string.\n",
    "\n",
    "```python\n",
    "f\"{other_dct['apple']}\"\n",
    "```"
   ],
   "metadata": {
    "collapsed": false,
    "pycharm": {
     "name": "#%% md\n"
    }
   }
  },
  {
   "cell_type": "code",
   "execution_count": null,
   "source": [],
   "outputs": [],
   "metadata": {
    "execution": {
     "iopub.execute_input": "2020-12-15T17:48:49.635485Z",
     "iopub.status.busy": "2020-12-15T17:48:49.635485Z",
     "iopub.status.idle": "2020-12-15T17:48:49.648488Z",
     "shell.execute_reply": "2020-12-15T17:48:49.648488Z"
    }
   }
  },
  {
   "cell_type": "code",
   "execution_count": null,
   "source": [],
   "outputs": [],
   "metadata": {
    "execution": {
     "iopub.execute_input": "2020-12-15T17:48:49.651485Z",
     "iopub.status.busy": "2020-12-15T17:48:49.650488Z",
     "iopub.status.idle": "2020-12-15T17:48:49.664485Z",
     "shell.execute_reply": "2020-12-15T17:48:49.664485Z"
    }
   }
  },
  {
   "cell_type": "markdown",
   "source": [
    "### Exercise: Tuple Manipulation\n",
    "\n",
    "1. Create a tuple `tpl` containing 100 and 4\n",
    "2. Convert to a list, add the elements 101 and 5\n",
    "3. Convert back toa tuple"
   ],
   "metadata": {
    "collapsed": false
   }
  },
  {
   "cell_type": "code",
   "execution_count": null,
   "source": [],
   "outputs": [],
   "metadata": {
    "execution": {
     "iopub.execute_input": "2020-12-15T17:48:49.666488Z",
     "iopub.status.busy": "2020-12-15T17:48:49.666488Z",
     "iopub.status.idle": "2020-12-15T17:48:49.679486Z",
     "shell.execute_reply": "2020-12-15T17:48:49.679486Z"
    }
   }
  },
  {
   "cell_type": "code",
   "execution_count": null,
   "source": [],
   "outputs": [],
   "metadata": {
    "execution": {
     "iopub.execute_input": "2020-12-15T17:48:49.682487Z",
     "iopub.status.busy": "2020-12-15T17:48:49.682487Z",
     "iopub.status.idle": "2020-12-15T17:48:49.695484Z",
     "shell.execute_reply": "2020-12-15T17:48:49.695484Z"
    }
   }
  },
  {
   "cell_type": "code",
   "execution_count": null,
   "source": [],
   "outputs": [],
   "metadata": {
    "execution": {
     "iopub.execute_input": "2020-12-15T17:48:49.698488Z",
     "iopub.status.busy": "2020-12-15T17:48:49.697483Z",
     "iopub.status.idle": "2020-12-15T17:48:49.710484Z",
     "shell.execute_reply": "2020-12-15T17:48:49.710484Z"
    }
   }
  }
 ],
 "metadata": {
  "orig_nbformat": 4,
  "language_info": {
   "name": "python"
  }
 },
 "nbformat": 4,
 "nbformat_minor": 2
}